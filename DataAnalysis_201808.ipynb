{
  "nbformat": 4,
  "nbformat_minor": 0,
  "metadata": {
    "colab": {
      "name": "DataAnalysis_201808.ipynb",
      "version": "0.3.2",
      "provenance": [],
      "collapsed_sections": [],
      "include_colab_link": true
    },
    "kernelspec": {
      "name": "python3",
      "display_name": "Python 3"
    }
  },
  "cells": [
    {
      "cell_type": "markdown",
      "metadata": {
        "id": "view-in-github",
        "colab_type": "text"
      },
      "source": [
        "[View in Colaboratory](https://colab.research.google.com/github/zecchinnicola/datasharing/blob/master/DataAnalysis_201808.ipynb)"
      ]
    },
    {
      "metadata": {
        "id": "MZ7Q2_FS6AAn",
        "colab_type": "code",
        "colab": {}
      },
      "cell_type": "code",
      "source": [
        "import pandas as pd\n",
        "import numpy as np\n",
        "import os\n",
        "import csv"
      ],
      "execution_count": 0,
      "outputs": []
    },
    {
      "metadata": {
        "id": "Ue52_NYR7c7U",
        "colab_type": "code",
        "colab": {
          "base_uri": "https://localhost:8080/",
          "height": 91
        },
        "outputId": "cf2b2221-fe33-4e32-aafb-a9116f07a007"
      },
      "cell_type": "code",
      "source": [
        "# Load the file from local\n",
        "\n",
        "from google.colab import files\n",
        "\n",
        "uploaded = files.upload()\n",
        "\n",
        "for fn in uploaded.keys():\n",
        "  print('User uploaded file \"{name}\" with length {length} bytes'.format(\n",
        "      name=fn, length=len(uploaded[fn])))"
      ],
      "execution_count": 3,
      "outputs": [
        {
          "output_type": "display_data",
          "data": {
            "text/html": [
              "\n",
              "     <input type=\"file\" id=\"files-bd9a1019-b6fb-4f8c-8dd3-53692671fe49\" name=\"files[]\" multiple disabled />\n",
              "     <output id=\"result-bd9a1019-b6fb-4f8c-8dd3-53692671fe49\">\n",
              "      Upload widget is only available when the cell has been executed in the\n",
              "      current browser session. Please rerun this cell to enable.\n",
              "      </output>\n",
              "      <script src=\"/nbextensions/google.colab/files.js\"></script> "
            ],
            "text/plain": [
              "<IPython.core.display.HTML object>"
            ]
          },
          "metadata": {
            "tags": []
          }
        },
        {
          "output_type": "stream",
          "text": [
            "Saving AHDT_MAIO_v1.csv to AHDT_MAIO_v1.csv\n",
            "User uploaded file \"AHDT_MAIO_v1.csv\" with length 30880 bytes\n"
          ],
          "name": "stdout"
        }
      ]
    },
    {
      "metadata": {
        "id": "u7_KDz8Q6YZI",
        "colab_type": "code",
        "colab": {}
      },
      "cell_type": "code",
      "source": [
        "# Acquire csv as DataFrame from local dir\n",
        "csv_path = cwd + \"/AHDT_MAIO_v1.csv\"\n",
        "df = pd.read_csv(csv_path, sep=';')"
      ],
      "execution_count": 0,
      "outputs": []
    },
    {
      "metadata": {
        "id": "fBchX9l_6bDD",
        "colab_type": "code",
        "colab": {
          "base_uri": "https://localhost:8080/",
          "height": 202
        },
        "outputId": "7e619d47-923a-4c3b-bf97-31da28686420"
      },
      "cell_type": "code",
      "source": [
        "# Let's visualise the dataset\n",
        "df.head()"
      ],
      "execution_count": 6,
      "outputs": [
        {
          "output_type": "execute_result",
          "data": {
            "text/html": [
              "<div>\n",
              "<style scoped>\n",
              "    .dataframe tbody tr th:only-of-type {\n",
              "        vertical-align: middle;\n",
              "    }\n",
              "\n",
              "    .dataframe tbody tr th {\n",
              "        vertical-align: top;\n",
              "    }\n",
              "\n",
              "    .dataframe thead th {\n",
              "        text-align: right;\n",
              "    }\n",
              "</style>\n",
              "<table border=\"1\" class=\"dataframe\">\n",
              "  <thead>\n",
              "    <tr style=\"text-align: right;\">\n",
              "      <th></th>\n",
              "      <th>id</th>\n",
              "      <th>c1</th>\n",
              "      <th>x2</th>\n",
              "      <th>c3</th>\n",
              "      <th>c4</th>\n",
              "      <th>x5</th>\n",
              "      <th>x6</th>\n",
              "      <th>x7</th>\n",
              "      <th>c8</th>\n",
              "      <th>TG</th>\n",
              "    </tr>\n",
              "  </thead>\n",
              "  <tbody>\n",
              "    <tr>\n",
              "      <th>0</th>\n",
              "      <td>1</td>\n",
              "      <td>0,196</td>\n",
              "      <td>563</td>\n",
              "      <td>1158</td>\n",
              "      <td>12755</td>\n",
              "      <td>899</td>\n",
              "      <td>869</td>\n",
              "      <td>86$</td>\n",
              "      <td>EL</td>\n",
              "      <td>390</td>\n",
              "    </tr>\n",
              "    <tr>\n",
              "      <th>1</th>\n",
              "      <td>2</td>\n",
              "      <td>0,076</td>\n",
              "      <td>398</td>\n",
              "      <td>1704</td>\n",
              "      <td>15186</td>\n",
              "      <td>998</td>\n",
              "      <td>650</td>\n",
              "      <td>10$</td>\n",
              "      <td>LUX</td>\n",
              "      <td>133</td>\n",
              "    </tr>\n",
              "    <tr>\n",
              "      <th>2</th>\n",
              "      <td>3</td>\n",
              "      <td>0,282</td>\n",
              "      <td>835</td>\n",
              "      <td>1790</td>\n",
              "      <td>10959</td>\n",
              "      <td>826</td>\n",
              "      <td>796</td>\n",
              "      <td>61$</td>\n",
              "      <td>CRO</td>\n",
              "      <td>395</td>\n",
              "    </tr>\n",
              "    <tr>\n",
              "      <th>3</th>\n",
              "      <td>4</td>\n",
              "      <td>0,544</td>\n",
              "      <td>196</td>\n",
              "      <td>764</td>\n",
              "      <td>11940</td>\n",
              "      <td>716</td>\n",
              "      <td>564</td>\n",
              "      <td>57$</td>\n",
              "      <td>UGA</td>\n",
              "      <td>311</td>\n",
              "    </tr>\n",
              "    <tr>\n",
              "      <th>4</th>\n",
              "      <td>5</td>\n",
              "      <td>0,038</td>\n",
              "      <td>298</td>\n",
              "      <td>1635</td>\n",
              "      <td>19877</td>\n",
              "      <td>980</td>\n",
              "      <td>761</td>\n",
              "      <td>08$</td>\n",
              "      <td>REU</td>\n",
              "      <td>93</td>\n",
              "    </tr>\n",
              "  </tbody>\n",
              "</table>\n",
              "</div>"
            ],
            "text/plain": [
              "   id     c1   x2    c3     c4   x5   x6   x7   c8   TG\n",
              "0   1  0,196  563  1158  12755  899  869  86$  EL   390\n",
              "1   2  0,076  398  1704  15186  998  650  10$  LUX  133\n",
              "2   3  0,282  835  1790  10959  826  796  61$  CRO  395\n",
              "3   4  0,544  196   764  11940  716  564  57$  UGA  311\n",
              "4   5  0,038  298  1635  19877  980  761  08$  REU   93"
            ]
          },
          "metadata": {
            "tags": []
          },
          "execution_count": 6
        }
      ]
    },
    {
      "metadata": {
        "id": "upf7_1RbJv3z",
        "colab_type": "text"
      },
      "cell_type": "markdown",
      "source": [
        "# DATA PREPARATION"
      ]
    },
    {
      "metadata": {
        "id": "xVcwGWlJKJov",
        "colab_type": "code",
        "colab": {
          "base_uri": "https://localhost:8080/",
          "height": 277
        },
        "outputId": "9652013f-e4d9-4b4a-9294-f94d1e31d1a8"
      },
      "cell_type": "code",
      "source": [
        "df.info()"
      ],
      "execution_count": 7,
      "outputs": [
        {
          "output_type": "stream",
          "text": [
            "<class 'pandas.core.frame.DataFrame'>\n",
            "RangeIndex: 700 entries, 0 to 699\n",
            "Data columns (total 10 columns):\n",
            "id    700 non-null int64\n",
            "c1    700 non-null object\n",
            "x2    700 non-null int64\n",
            "c3    700 non-null int64\n",
            "c4    700 non-null int64\n",
            "x5    700 non-null int64\n",
            "x6    700 non-null int64\n",
            "x7    700 non-null object\n",
            "c8    700 non-null object\n",
            "TG    700 non-null int64\n",
            "dtypes: int64(7), object(3)\n",
            "memory usage: 54.8+ KB\n"
          ],
          "name": "stdout"
        }
      ]
    },
    {
      "metadata": {
        "id": "1BP6QSzp2Jey",
        "colab_type": "text"
      },
      "cell_type": "markdown",
      "source": [
        "##Data Cleansing"
      ]
    },
    {
      "metadata": {
        "id": "-VrV3Xtu6h8w",
        "colab_type": "code",
        "colab": {}
      },
      "cell_type": "code",
      "source": [
        "#Remove $ from column x7\n",
        "df.x7 = df.x7.apply(lambda x: x.strip('$'))"
      ],
      "execution_count": 0,
      "outputs": []
    },
    {
      "metadata": {
        "id": "zseR2rnJ6pVX",
        "colab_type": "code",
        "colab": {
          "base_uri": "https://localhost:8080/",
          "height": 202
        },
        "outputId": "13f47a99-1e8f-4a48-9c87-db5c0de319ed"
      },
      "cell_type": "code",
      "source": [
        "df.head()"
      ],
      "execution_count": 9,
      "outputs": [
        {
          "output_type": "execute_result",
          "data": {
            "text/html": [
              "<div>\n",
              "<style scoped>\n",
              "    .dataframe tbody tr th:only-of-type {\n",
              "        vertical-align: middle;\n",
              "    }\n",
              "\n",
              "    .dataframe tbody tr th {\n",
              "        vertical-align: top;\n",
              "    }\n",
              "\n",
              "    .dataframe thead th {\n",
              "        text-align: right;\n",
              "    }\n",
              "</style>\n",
              "<table border=\"1\" class=\"dataframe\">\n",
              "  <thead>\n",
              "    <tr style=\"text-align: right;\">\n",
              "      <th></th>\n",
              "      <th>id</th>\n",
              "      <th>c1</th>\n",
              "      <th>x2</th>\n",
              "      <th>c3</th>\n",
              "      <th>c4</th>\n",
              "      <th>x5</th>\n",
              "      <th>x6</th>\n",
              "      <th>x7</th>\n",
              "      <th>c8</th>\n",
              "      <th>TG</th>\n",
              "    </tr>\n",
              "  </thead>\n",
              "  <tbody>\n",
              "    <tr>\n",
              "      <th>0</th>\n",
              "      <td>1</td>\n",
              "      <td>0,196</td>\n",
              "      <td>563</td>\n",
              "      <td>1158</td>\n",
              "      <td>12755</td>\n",
              "      <td>899</td>\n",
              "      <td>869</td>\n",
              "      <td>86</td>\n",
              "      <td>EL</td>\n",
              "      <td>390</td>\n",
              "    </tr>\n",
              "    <tr>\n",
              "      <th>1</th>\n",
              "      <td>2</td>\n",
              "      <td>0,076</td>\n",
              "      <td>398</td>\n",
              "      <td>1704</td>\n",
              "      <td>15186</td>\n",
              "      <td>998</td>\n",
              "      <td>650</td>\n",
              "      <td>10</td>\n",
              "      <td>LUX</td>\n",
              "      <td>133</td>\n",
              "    </tr>\n",
              "    <tr>\n",
              "      <th>2</th>\n",
              "      <td>3</td>\n",
              "      <td>0,282</td>\n",
              "      <td>835</td>\n",
              "      <td>1790</td>\n",
              "      <td>10959</td>\n",
              "      <td>826</td>\n",
              "      <td>796</td>\n",
              "      <td>61</td>\n",
              "      <td>CRO</td>\n",
              "      <td>395</td>\n",
              "    </tr>\n",
              "    <tr>\n",
              "      <th>3</th>\n",
              "      <td>4</td>\n",
              "      <td>0,544</td>\n",
              "      <td>196</td>\n",
              "      <td>764</td>\n",
              "      <td>11940</td>\n",
              "      <td>716</td>\n",
              "      <td>564</td>\n",
              "      <td>57</td>\n",
              "      <td>UGA</td>\n",
              "      <td>311</td>\n",
              "    </tr>\n",
              "    <tr>\n",
              "      <th>4</th>\n",
              "      <td>5</td>\n",
              "      <td>0,038</td>\n",
              "      <td>298</td>\n",
              "      <td>1635</td>\n",
              "      <td>19877</td>\n",
              "      <td>980</td>\n",
              "      <td>761</td>\n",
              "      <td>08</td>\n",
              "      <td>REU</td>\n",
              "      <td>93</td>\n",
              "    </tr>\n",
              "  </tbody>\n",
              "</table>\n",
              "</div>"
            ],
            "text/plain": [
              "   id     c1   x2    c3     c4   x5   x6  x7   c8   TG\n",
              "0   1  0,196  563  1158  12755  899  869  86  EL   390\n",
              "1   2  0,076  398  1704  15186  998  650  10  LUX  133\n",
              "2   3  0,282  835  1790  10959  826  796  61  CRO  395\n",
              "3   4  0,544  196   764  11940  716  564  57  UGA  311\n",
              "4   5  0,038  298  1635  19877  980  761  08  REU   93"
            ]
          },
          "metadata": {
            "tags": []
          },
          "execution_count": 9
        }
      ]
    },
    {
      "metadata": {
        "id": "1kD7bjXK6uBh",
        "colab_type": "code",
        "colab": {}
      },
      "cell_type": "code",
      "source": [
        "#Remove starting 0 from column x7\n",
        "xx = df.x7.apply(lambda x: x.strip('0') if x.startswith('0') else x)"
      ],
      "execution_count": 0,
      "outputs": []
    },
    {
      "metadata": {
        "id": "MpOAYe3v6x1R",
        "colab_type": "code",
        "colab": {
          "base_uri": "https://localhost:8080/",
          "height": 173
        },
        "outputId": "15827040-e6ed-474d-c295-4ad56f11af77"
      },
      "cell_type": "code",
      "source": [
        "#xx_int = pd.to_numeric(xx, errors='coerce')\n",
        "#nmb = xx_int[np.isnan(xx_int)]\n",
        "#nmb"
      ],
      "execution_count": 28,
      "outputs": [
        {
          "output_type": "execute_result",
          "data": {
            "text/plain": [
              "133   NaN\n",
              "190   NaN\n",
              "388   NaN\n",
              "418   NaN\n",
              "490   NaN\n",
              "533   NaN\n",
              "577   NaN\n",
              "628   NaN\n",
              "Name: x7, dtype: float64"
            ]
          },
          "metadata": {
            "tags": []
          },
          "execution_count": 28
        }
      ]
    },
    {
      "metadata": {
        "id": "o2gRF7GB65RE",
        "colab_type": "code",
        "colab": {}
      },
      "cell_type": "code",
      "source": [
        "#Transform x7 float64 into integer (where not NaN) \n",
        "xx_int = pd.to_numeric(xx, errors='coerce')\n",
        "xx_int = xx_int.fillna(0.0).astype(int)\n",
        "df.x7 = xx_int"
      ],
      "execution_count": 0,
      "outputs": []
    },
    {
      "metadata": {
        "id": "DY7G-EJ67AJo",
        "colab_type": "code",
        "colab": {
          "base_uri": "https://localhost:8080/",
          "height": 35
        },
        "outputId": "cccfd9c2-b20f-456d-8206-657732533242"
      },
      "cell_type": "code",
      "source": [
        "#nmb = xx_int[np.isnan(xx_int)]\n",
        "#nmb"
      ],
      "execution_count": 32,
      "outputs": [
        {
          "output_type": "execute_result",
          "data": {
            "text/plain": [
              "Series([], Name: x7, dtype: int64)"
            ]
          },
          "metadata": {
            "tags": []
          },
          "execution_count": 32
        }
      ]
    },
    {
      "metadata": {
        "id": "pCz_YXwl6TtA",
        "colab_type": "code",
        "colab": {
          "base_uri": "https://localhost:8080/",
          "height": 202
        },
        "outputId": "e0d37fa5-42f9-4136-8fe5-dbb4d426566e"
      },
      "cell_type": "code",
      "source": [
        "# Clean column c1: replace ',' with '.' and cast to string on the fly\n",
        "df.c1 = df.c1.str.replace(',','.')\n",
        "# Cast column c1 to numeric value\n",
        "df.c1 = pd.to_numeric(df.c1, errors='coerce')\n",
        "df.head()"
      ],
      "execution_count": 12,
      "outputs": [
        {
          "output_type": "execute_result",
          "data": {
            "text/html": [
              "<div>\n",
              "<style scoped>\n",
              "    .dataframe tbody tr th:only-of-type {\n",
              "        vertical-align: middle;\n",
              "    }\n",
              "\n",
              "    .dataframe tbody tr th {\n",
              "        vertical-align: top;\n",
              "    }\n",
              "\n",
              "    .dataframe thead th {\n",
              "        text-align: right;\n",
              "    }\n",
              "</style>\n",
              "<table border=\"1\" class=\"dataframe\">\n",
              "  <thead>\n",
              "    <tr style=\"text-align: right;\">\n",
              "      <th></th>\n",
              "      <th>id</th>\n",
              "      <th>c1</th>\n",
              "      <th>x2</th>\n",
              "      <th>c3</th>\n",
              "      <th>c4</th>\n",
              "      <th>x5</th>\n",
              "      <th>x6</th>\n",
              "      <th>x7</th>\n",
              "      <th>c8</th>\n",
              "      <th>TG</th>\n",
              "    </tr>\n",
              "  </thead>\n",
              "  <tbody>\n",
              "    <tr>\n",
              "      <th>0</th>\n",
              "      <td>1</td>\n",
              "      <td>0.196</td>\n",
              "      <td>563</td>\n",
              "      <td>1158</td>\n",
              "      <td>12755</td>\n",
              "      <td>899</td>\n",
              "      <td>869</td>\n",
              "      <td>86</td>\n",
              "      <td>EL</td>\n",
              "      <td>390</td>\n",
              "    </tr>\n",
              "    <tr>\n",
              "      <th>1</th>\n",
              "      <td>2</td>\n",
              "      <td>0.076</td>\n",
              "      <td>398</td>\n",
              "      <td>1704</td>\n",
              "      <td>15186</td>\n",
              "      <td>998</td>\n",
              "      <td>650</td>\n",
              "      <td>10</td>\n",
              "      <td>LUX</td>\n",
              "      <td>133</td>\n",
              "    </tr>\n",
              "    <tr>\n",
              "      <th>2</th>\n",
              "      <td>3</td>\n",
              "      <td>0.282</td>\n",
              "      <td>835</td>\n",
              "      <td>1790</td>\n",
              "      <td>10959</td>\n",
              "      <td>826</td>\n",
              "      <td>796</td>\n",
              "      <td>61</td>\n",
              "      <td>CRO</td>\n",
              "      <td>395</td>\n",
              "    </tr>\n",
              "    <tr>\n",
              "      <th>3</th>\n",
              "      <td>4</td>\n",
              "      <td>0.544</td>\n",
              "      <td>196</td>\n",
              "      <td>764</td>\n",
              "      <td>11940</td>\n",
              "      <td>716</td>\n",
              "      <td>564</td>\n",
              "      <td>57</td>\n",
              "      <td>UGA</td>\n",
              "      <td>311</td>\n",
              "    </tr>\n",
              "    <tr>\n",
              "      <th>4</th>\n",
              "      <td>5</td>\n",
              "      <td>0.038</td>\n",
              "      <td>298</td>\n",
              "      <td>1635</td>\n",
              "      <td>19877</td>\n",
              "      <td>980</td>\n",
              "      <td>761</td>\n",
              "      <td>8</td>\n",
              "      <td>REU</td>\n",
              "      <td>93</td>\n",
              "    </tr>\n",
              "  </tbody>\n",
              "</table>\n",
              "</div>"
            ],
            "text/plain": [
              "   id     c1   x2    c3     c4   x5   x6  x7   c8   TG\n",
              "0   1  0.196  563  1158  12755  899  869  86  EL   390\n",
              "1   2  0.076  398  1704  15186  998  650  10  LUX  133\n",
              "2   3  0.282  835  1790  10959  826  796  61  CRO  395\n",
              "3   4  0.544  196   764  11940  716  564  57  UGA  311\n",
              "4   5  0.038  298  1635  19877  980  761   8  REU   93"
            ]
          },
          "metadata": {
            "tags": []
          },
          "execution_count": 12
        }
      ]
    },
    {
      "metadata": {
        "id": "B-_0uaffuTYX",
        "colab_type": "text"
      },
      "cell_type": "markdown",
      "source": [
        "### Transform column c8 from string to categorical number"
      ]
    },
    {
      "metadata": {
        "id": "Zz967vkRJ9mj",
        "colab_type": "code",
        "colab": {
          "base_uri": "https://localhost:8080/",
          "height": 52
        },
        "outputId": "09a9dc32-bb38-42bc-a555-fcc4a827b60f"
      },
      "cell_type": "code",
      "source": [
        "# Column c8 is clearly categorical\n",
        "#print(\"\" + str(df.c8.nunique())\n",
        "c8_cat = df.c8.unique()\n",
        "print(\"Total records of the dataframe: \" + str(len(df)))\n",
        "print(\"Distinct values on column c8: \" + str(df.c8.nunique()))"
      ],
      "execution_count": 21,
      "outputs": [
        {
          "output_type": "stream",
          "text": [
            "Total records of the dataframe: 700\n",
            "Distinct values on column c8: 184\n"
          ],
          "name": "stdout"
        }
      ]
    },
    {
      "metadata": {
        "id": "x6QbKNJsskKC",
        "colab_type": "code",
        "colab": {
          "base_uri": "https://localhost:8080/",
          "height": 289
        },
        "outputId": "029e8f40-59c9-4670-e5a3-43161e4105de"
      },
      "cell_type": "code",
      "source": [
        "# Dictionary where category is key, category_number is value\n",
        "dic = {}\n",
        "i = 0\n",
        "for cat in c8_cat:\n",
        "  dic.update({cat:i})\n",
        "  i = i + 1\n",
        "\n",
        "c8 = df.c8\n",
        "\n",
        "i = 0\n",
        "for cat in c8:\n",
        "  catnum = dic.get(cat)\n",
        "  #df = df.append({'x7':catnum}, ignore_index=True)\n",
        "  df.c8[i] = catnum\n",
        "  i = i + 1\n",
        "\n",
        "  \n",
        "# Transform c8 Python object into integer\n",
        "df.c8 = df.c8.astype(str).astype(int)\n",
        "df.c8.head()\n",
        "\n",
        "df.head()"
      ],
      "execution_count": 22,
      "outputs": [
        {
          "output_type": "stream",
          "text": [
            "/usr/local/lib/python3.6/dist-packages/ipykernel_launcher.py:13: SettingWithCopyWarning: \n",
            "A value is trying to be set on a copy of a slice from a DataFrame\n",
            "\n",
            "See the caveats in the documentation: http://pandas.pydata.org/pandas-docs/stable/indexing.html#indexing-view-versus-copy\n",
            "  del sys.path[0]\n"
          ],
          "name": "stderr"
        },
        {
          "output_type": "execute_result",
          "data": {
            "text/html": [
              "<div>\n",
              "<style scoped>\n",
              "    .dataframe tbody tr th:only-of-type {\n",
              "        vertical-align: middle;\n",
              "    }\n",
              "\n",
              "    .dataframe tbody tr th {\n",
              "        vertical-align: top;\n",
              "    }\n",
              "\n",
              "    .dataframe thead th {\n",
              "        text-align: right;\n",
              "    }\n",
              "</style>\n",
              "<table border=\"1\" class=\"dataframe\">\n",
              "  <thead>\n",
              "    <tr style=\"text-align: right;\">\n",
              "      <th></th>\n",
              "      <th>id</th>\n",
              "      <th>c1</th>\n",
              "      <th>x2</th>\n",
              "      <th>c3</th>\n",
              "      <th>c4</th>\n",
              "      <th>x5</th>\n",
              "      <th>x6</th>\n",
              "      <th>x7</th>\n",
              "      <th>c8</th>\n",
              "      <th>TG</th>\n",
              "    </tr>\n",
              "  </thead>\n",
              "  <tbody>\n",
              "    <tr>\n",
              "      <th>0</th>\n",
              "      <td>1</td>\n",
              "      <td>0.196</td>\n",
              "      <td>563</td>\n",
              "      <td>1158</td>\n",
              "      <td>12755</td>\n",
              "      <td>899</td>\n",
              "      <td>869</td>\n",
              "      <td>86</td>\n",
              "      <td>0</td>\n",
              "      <td>390</td>\n",
              "    </tr>\n",
              "    <tr>\n",
              "      <th>1</th>\n",
              "      <td>2</td>\n",
              "      <td>0.076</td>\n",
              "      <td>398</td>\n",
              "      <td>1704</td>\n",
              "      <td>15186</td>\n",
              "      <td>998</td>\n",
              "      <td>650</td>\n",
              "      <td>10</td>\n",
              "      <td>1</td>\n",
              "      <td>133</td>\n",
              "    </tr>\n",
              "    <tr>\n",
              "      <th>2</th>\n",
              "      <td>3</td>\n",
              "      <td>0.282</td>\n",
              "      <td>835</td>\n",
              "      <td>1790</td>\n",
              "      <td>10959</td>\n",
              "      <td>826</td>\n",
              "      <td>796</td>\n",
              "      <td>61</td>\n",
              "      <td>2</td>\n",
              "      <td>395</td>\n",
              "    </tr>\n",
              "    <tr>\n",
              "      <th>3</th>\n",
              "      <td>4</td>\n",
              "      <td>0.544</td>\n",
              "      <td>196</td>\n",
              "      <td>764</td>\n",
              "      <td>11940</td>\n",
              "      <td>716</td>\n",
              "      <td>564</td>\n",
              "      <td>57</td>\n",
              "      <td>3</td>\n",
              "      <td>311</td>\n",
              "    </tr>\n",
              "    <tr>\n",
              "      <th>4</th>\n",
              "      <td>5</td>\n",
              "      <td>0.038</td>\n",
              "      <td>298</td>\n",
              "      <td>1635</td>\n",
              "      <td>19877</td>\n",
              "      <td>980</td>\n",
              "      <td>761</td>\n",
              "      <td>8</td>\n",
              "      <td>4</td>\n",
              "      <td>93</td>\n",
              "    </tr>\n",
              "  </tbody>\n",
              "</table>\n",
              "</div>"
            ],
            "text/plain": [
              "   id     c1   x2    c3     c4   x5   x6  x7  c8   TG\n",
              "0   1  0.196  563  1158  12755  899  869  86   0  390\n",
              "1   2  0.076  398  1704  15186  998  650  10   1  133\n",
              "2   3  0.282  835  1790  10959  826  796  61   2  395\n",
              "3   4  0.544  196   764  11940  716  564  57   3  311\n",
              "4   5  0.038  298  1635  19877  980  761   8   4   93"
            ]
          },
          "metadata": {
            "tags": []
          },
          "execution_count": 22
        }
      ]
    },
    {
      "metadata": {
        "id": "9Z5ZjguZu235",
        "colab_type": "code",
        "colab": {
          "base_uri": "https://localhost:8080/",
          "height": 202
        },
        "outputId": "ac3e8aa1-26b1-4ed6-be6a-658a1f5795a5"
      },
      "cell_type": "code",
      "source": [
        "# Drop column 'id'\n",
        "df = df.drop('id', 1)\n",
        "df.head()"
      ],
      "execution_count": 23,
      "outputs": [
        {
          "output_type": "execute_result",
          "data": {
            "text/html": [
              "<div>\n",
              "<style scoped>\n",
              "    .dataframe tbody tr th:only-of-type {\n",
              "        vertical-align: middle;\n",
              "    }\n",
              "\n",
              "    .dataframe tbody tr th {\n",
              "        vertical-align: top;\n",
              "    }\n",
              "\n",
              "    .dataframe thead th {\n",
              "        text-align: right;\n",
              "    }\n",
              "</style>\n",
              "<table border=\"1\" class=\"dataframe\">\n",
              "  <thead>\n",
              "    <tr style=\"text-align: right;\">\n",
              "      <th></th>\n",
              "      <th>c1</th>\n",
              "      <th>x2</th>\n",
              "      <th>c3</th>\n",
              "      <th>c4</th>\n",
              "      <th>x5</th>\n",
              "      <th>x6</th>\n",
              "      <th>x7</th>\n",
              "      <th>c8</th>\n",
              "      <th>TG</th>\n",
              "    </tr>\n",
              "  </thead>\n",
              "  <tbody>\n",
              "    <tr>\n",
              "      <th>0</th>\n",
              "      <td>0.196</td>\n",
              "      <td>563</td>\n",
              "      <td>1158</td>\n",
              "      <td>12755</td>\n",
              "      <td>899</td>\n",
              "      <td>869</td>\n",
              "      <td>86</td>\n",
              "      <td>0</td>\n",
              "      <td>390</td>\n",
              "    </tr>\n",
              "    <tr>\n",
              "      <th>1</th>\n",
              "      <td>0.076</td>\n",
              "      <td>398</td>\n",
              "      <td>1704</td>\n",
              "      <td>15186</td>\n",
              "      <td>998</td>\n",
              "      <td>650</td>\n",
              "      <td>10</td>\n",
              "      <td>1</td>\n",
              "      <td>133</td>\n",
              "    </tr>\n",
              "    <tr>\n",
              "      <th>2</th>\n",
              "      <td>0.282</td>\n",
              "      <td>835</td>\n",
              "      <td>1790</td>\n",
              "      <td>10959</td>\n",
              "      <td>826</td>\n",
              "      <td>796</td>\n",
              "      <td>61</td>\n",
              "      <td>2</td>\n",
              "      <td>395</td>\n",
              "    </tr>\n",
              "    <tr>\n",
              "      <th>3</th>\n",
              "      <td>0.544</td>\n",
              "      <td>196</td>\n",
              "      <td>764</td>\n",
              "      <td>11940</td>\n",
              "      <td>716</td>\n",
              "      <td>564</td>\n",
              "      <td>57</td>\n",
              "      <td>3</td>\n",
              "      <td>311</td>\n",
              "    </tr>\n",
              "    <tr>\n",
              "      <th>4</th>\n",
              "      <td>0.038</td>\n",
              "      <td>298</td>\n",
              "      <td>1635</td>\n",
              "      <td>19877</td>\n",
              "      <td>980</td>\n",
              "      <td>761</td>\n",
              "      <td>8</td>\n",
              "      <td>4</td>\n",
              "      <td>93</td>\n",
              "    </tr>\n",
              "  </tbody>\n",
              "</table>\n",
              "</div>"
            ],
            "text/plain": [
              "      c1   x2    c3     c4   x5   x6  x7  c8   TG\n",
              "0  0.196  563  1158  12755  899  869  86   0  390\n",
              "1  0.076  398  1704  15186  998  650  10   1  133\n",
              "2  0.282  835  1790  10959  826  796  61   2  395\n",
              "3  0.544  196   764  11940  716  564  57   3  311\n",
              "4  0.038  298  1635  19877  980  761   8   4   93"
            ]
          },
          "metadata": {
            "tags": []
          },
          "execution_count": 23
        }
      ]
    },
    {
      "metadata": {
        "id": "VF03uXhzyWBk",
        "colab_type": "text"
      },
      "cell_type": "markdown",
      "source": [
        "### Feature Scaling"
      ]
    },
    {
      "metadata": {
        "id": "d_yD2EJywlZy",
        "colab_type": "code",
        "colab": {
          "base_uri": "https://localhost:8080/",
          "height": 202
        },
        "outputId": "42e8be26-10b6-41c7-f7ec-0c51d4bf1fbe"
      },
      "cell_type": "code",
      "source": [
        "# Multiply column c1 by 1000\n",
        "df.c1 = df.c1 * 1000\n",
        "\n",
        "# Transform c1 float64 into integer (where not NaN) \n",
        "df.c1 = df.c1.fillna(0.0).astype(int)\n",
        "\n",
        "df.head()"
      ],
      "execution_count": 24,
      "outputs": [
        {
          "output_type": "execute_result",
          "data": {
            "text/html": [
              "<div>\n",
              "<style scoped>\n",
              "    .dataframe tbody tr th:only-of-type {\n",
              "        vertical-align: middle;\n",
              "    }\n",
              "\n",
              "    .dataframe tbody tr th {\n",
              "        vertical-align: top;\n",
              "    }\n",
              "\n",
              "    .dataframe thead th {\n",
              "        text-align: right;\n",
              "    }\n",
              "</style>\n",
              "<table border=\"1\" class=\"dataframe\">\n",
              "  <thead>\n",
              "    <tr style=\"text-align: right;\">\n",
              "      <th></th>\n",
              "      <th>c1</th>\n",
              "      <th>x2</th>\n",
              "      <th>c3</th>\n",
              "      <th>c4</th>\n",
              "      <th>x5</th>\n",
              "      <th>x6</th>\n",
              "      <th>x7</th>\n",
              "      <th>c8</th>\n",
              "      <th>TG</th>\n",
              "    </tr>\n",
              "  </thead>\n",
              "  <tbody>\n",
              "    <tr>\n",
              "      <th>0</th>\n",
              "      <td>196</td>\n",
              "      <td>563</td>\n",
              "      <td>1158</td>\n",
              "      <td>12755</td>\n",
              "      <td>899</td>\n",
              "      <td>869</td>\n",
              "      <td>86</td>\n",
              "      <td>0</td>\n",
              "      <td>390</td>\n",
              "    </tr>\n",
              "    <tr>\n",
              "      <th>1</th>\n",
              "      <td>76</td>\n",
              "      <td>398</td>\n",
              "      <td>1704</td>\n",
              "      <td>15186</td>\n",
              "      <td>998</td>\n",
              "      <td>650</td>\n",
              "      <td>10</td>\n",
              "      <td>1</td>\n",
              "      <td>133</td>\n",
              "    </tr>\n",
              "    <tr>\n",
              "      <th>2</th>\n",
              "      <td>282</td>\n",
              "      <td>835</td>\n",
              "      <td>1790</td>\n",
              "      <td>10959</td>\n",
              "      <td>826</td>\n",
              "      <td>796</td>\n",
              "      <td>61</td>\n",
              "      <td>2</td>\n",
              "      <td>395</td>\n",
              "    </tr>\n",
              "    <tr>\n",
              "      <th>3</th>\n",
              "      <td>544</td>\n",
              "      <td>196</td>\n",
              "      <td>764</td>\n",
              "      <td>11940</td>\n",
              "      <td>716</td>\n",
              "      <td>564</td>\n",
              "      <td>57</td>\n",
              "      <td>3</td>\n",
              "      <td>311</td>\n",
              "    </tr>\n",
              "    <tr>\n",
              "      <th>4</th>\n",
              "      <td>38</td>\n",
              "      <td>298</td>\n",
              "      <td>1635</td>\n",
              "      <td>19877</td>\n",
              "      <td>980</td>\n",
              "      <td>761</td>\n",
              "      <td>8</td>\n",
              "      <td>4</td>\n",
              "      <td>93</td>\n",
              "    </tr>\n",
              "  </tbody>\n",
              "</table>\n",
              "</div>"
            ],
            "text/plain": [
              "    c1   x2    c3     c4   x5   x6  x7  c8   TG\n",
              "0  196  563  1158  12755  899  869  86   0  390\n",
              "1   76  398  1704  15186  998  650  10   1  133\n",
              "2  282  835  1790  10959  826  796  61   2  395\n",
              "3  544  196   764  11940  716  564  57   3  311\n",
              "4   38  298  1635  19877  980  761   8   4   93"
            ]
          },
          "metadata": {
            "tags": []
          },
          "execution_count": 24
        }
      ]
    },
    {
      "metadata": {
        "id": "G0pkdYMKwVSg",
        "colab_type": "text"
      },
      "cell_type": "markdown",
      "source": [
        "### Missing Values"
      ]
    },
    {
      "metadata": {
        "id": "zL5TJUCKwX1a",
        "colab_type": "code",
        "colab": {
          "base_uri": "https://localhost:8080/",
          "height": 173
        },
        "outputId": "ee99953d-73e8-4a68-f55c-30954222ead2"
      },
      "cell_type": "code",
      "source": [
        "print(\"Nulls in c1: \" + str(df.c1.isnull().values.sum()))\n",
        "print(\"Nulls in x2: \" + str(df.x2.isnull().values.sum()))\n",
        "print(\"Nulls in c3: \" + str(df.c3.isnull().values.sum()))\n",
        "print(\"Nulls in c4: \" + str(df.c4.isnull().values.sum()))\n",
        "print(\"Nulls in x5: \" + str(df.x5.isnull().values.sum()))\n",
        "print(\"Nulls in x6: \" + str(df.x6.isnull().values.sum()))\n",
        "print(\"Nulls in x7: \" + str(df.x7.isnull().values.sum()))\n",
        "print(\"Nulls in c8: \" + str(df.c8.isnull().values.sum()))\n",
        "print(\"Nulls in TG: \" + str(df.TG.isnull().values.sum()))"
      ],
      "execution_count": 25,
      "outputs": [
        {
          "output_type": "stream",
          "text": [
            "Nulls in c1: 0\n",
            "Nulls in x2: 0\n",
            "Nulls in c3: 0\n",
            "Nulls in c4: 0\n",
            "Nulls in x5: 0\n",
            "Nulls in x6: 0\n",
            "Nulls in x7: 0\n",
            "Nulls in c8: 0\n",
            "Nulls in TG: 0\n"
          ],
          "name": "stdout"
        }
      ]
    },
    {
      "metadata": {
        "id": "CpO7PpvFxV0B",
        "colab_type": "text"
      },
      "cell_type": "markdown",
      "source": [
        "There are no missing values (that could be fulfilled with the mean of the feature)"
      ]
    },
    {
      "metadata": {
        "id": "MnM13aCyKvtO",
        "colab_type": "text"
      },
      "cell_type": "markdown",
      "source": [
        "# DATA EXPLORATION"
      ]
    },
    {
      "metadata": {
        "id": "hJ-ggTzqLE7e",
        "colab_type": "code",
        "colab": {}
      },
      "cell_type": "code",
      "source": [
        "import seaborn as sns\n",
        "import matplotlib.pyplot as plt\n",
        "%matplotlib inline\n",
        "plt.style.use('bmh')"
      ],
      "execution_count": 0,
      "outputs": []
    },
    {
      "metadata": {
        "id": "JHZdQdrvK3Kn",
        "colab_type": "text"
      },
      "cell_type": "markdown",
      "source": [
        "Let's check how the TG values are distributed"
      ]
    },
    {
      "metadata": {
        "id": "HqqzBszeKyaL",
        "colab_type": "code",
        "colab": {
          "base_uri": "https://localhost:8080/",
          "height": 709
        },
        "outputId": "1b8cbc4d-4b6e-4863-d240-d9c616c521d2"
      },
      "cell_type": "code",
      "source": [
        "print(df.TG.describe())\n",
        "plt.figure(figsize=(10, 9))\n",
        "sns.distplot(df.TG, color='b', bins=10, hist_kws={'alpha': 0.3});"
      ],
      "execution_count": 27,
      "outputs": [
        {
          "output_type": "stream",
          "text": [
            "count    700.000000\n",
            "mean     319.787143\n",
            "std      219.368098\n",
            "min        1.000000\n",
            "25%      132.750000\n",
            "50%      277.000000\n",
            "75%      475.000000\n",
            "max      976.000000\n",
            "Name: TG, dtype: float64\n"
          ],
          "name": "stdout"
        },
        {
          "output_type": "display_data",
          "data": {
            "image/png": "[encoded data removed]",
            "text/plain": [
              "<matplotlib.figure.Figure at 0x7f585e022470>"
            ]
          },
          "metadata": {
            "tags": []
          }
        }
      ]
    },
    {
      "metadata": {
        "id": "TgXEP7suNA8R",
        "colab_type": "text"
      },
      "cell_type": "markdown",
      "source": [
        "The values have an evident positive skew (positive direction).<br>\n",
        "It seems that there are no outliers in the TG values."
      ]
    },
    {
      "metadata": {
        "id": "bSK_0qn7OdzJ",
        "colab_type": "text"
      },
      "cell_type": "markdown",
      "source": [
        "### Numerical Distribution"
      ]
    },
    {
      "metadata": {
        "id": "t8RqDOSXOiCH",
        "colab_type": "text"
      },
      "cell_type": "markdown",
      "source": [
        "Let's plot an histogram for each feature (excluding object feature TG)"
      ]
    },
    {
      "metadata": {
        "id": "JIV36zwWPrzO",
        "colab_type": "code",
        "colab": {
          "base_uri": "https://localhost:8080/",
          "height": 537
        },
        "outputId": "1e2025b6-9669-4ea4-9359-22d5d5d7dd0d"
      },
      "cell_type": "code",
      "source": [
        "# Let's treat categorical feature separately\n",
        "c8 = df.c8\n",
        "c8.hist(figsize=(8, 9), bins=3, xlabelsize=10, ylabelsize=10);"
      ],
      "execution_count": 28,
      "outputs": [
        {
          "output_type": "display_data",
          "data": {
            "image/png": "[encoded data removed]",
            "text/plain": [
              "<matplotlib.figure.Figure at 0x7f584ed58908>"
            ]
          },
          "metadata": {
            "tags": []
          }
        }
      ]
    },
    {
      "metadata": {
        "id": "LdSZ1ABeQP-g",
        "colab_type": "text"
      },
      "cell_type": "markdown",
      "source": [
        "This categorical feature named c8 seems to be equally distributed.<br>\n",
        "There are no other quantitative observations on it, except that it could probably be grouped by geographical area"
      ]
    },
    {
      "metadata": {
        "id": "0tyik1JfOs6E",
        "colab_type": "code",
        "colab": {
          "base_uri": "https://localhost:8080/",
          "height": 1149
        },
        "outputId": "ac959197-a083-4a3c-a071-c15240da2a07"
      },
      "cell_type": "code",
      "source": [
        "df_fea = df.drop('TG', 1)\n",
        "df_fea = df_fea.drop('c8', 1)\n",
        "df_fea.hist(figsize=(16, 20), bins=50, xlabelsize=8, ylabelsize=8);"
      ],
      "execution_count": 29,
      "outputs": [
        {
          "output_type": "display_data",
          "data": {
            "image/png": "[encoded data removed]",
            "text/plain": [
              "<matplotlib.figure.Figure at 0x7f584edce630>"
            ]
          },
          "metadata": {
            "tags": []
          }
        }
      ]
    },
    {
      "metadata": {
        "id": "fQsjsQlvfm85",
        "colab_type": "text"
      },
      "cell_type": "markdown",
      "source": [
        "No outliers seem to be present in the numerical distribution of single features"
      ]
    },
    {
      "metadata": {
        "id": "F7PMl4LG9LJf",
        "colab_type": "text"
      },
      "cell_type": "markdown",
      "source": [
        "###Correlation"
      ]
    },
    {
      "metadata": {
        "id": "SeAZzBXqiSDG",
        "colab_type": "text"
      },
      "cell_type": "markdown",
      "source": [
        "Let's see whether some features are correlated with the TG object column"
      ]
    },
    {
      "metadata": {
        "id": "Com1XKsa9Vb0",
        "colab_type": "code",
        "colab": {
          "base_uri": "https://localhost:8080/",
          "height": 35
        },
        "outputId": "071ea970-9ca8-49d2-9dff-abb1b7727bf1"
      },
      "cell_type": "code",
      "source": [
        "# Obviously we remove the TG column\n",
        "# df_fea_corr = df.drop('TG', 1)\n",
        "\n",
        "# Let's use Pearson correlation\n",
        "df_num_corr = df.corr(method='pearson')['TG'][:-1] # -1 because the latest row will be TG itself\n",
        "# Let's write them in descending order and consider only where Pearson's r > 0.6\n",
        "corr_fea_list = df_num_corr[abs(df_num_corr) > 0.6].sort_values(ascending=False)\n",
        "print(corr_fea_list)"
      ],
      "execution_count": 30,
      "outputs": [
        {
          "output_type": "stream",
          "text": [
            "Series([], Name: TG, dtype: float64)\n"
          ],
          "name": "stdout"
        }
      ]
    },
    {
      "metadata": {
        "id": "Z5n0OEMUlPFI",
        "colab_type": "text"
      },
      "cell_type": "markdown",
      "source": [
        "We have assumed a value > .6 to be noteworthy.<br> \n",
        "There are no correlated features.<br>\n",
        "Anyway some other relationship can be highlighted using different metrics (for instance, curvilinear correlation)"
      ]
    },
    {
      "metadata": {
        "id": "TuNNH8cvnwh1",
        "colab_type": "text"
      },
      "cell_type": "markdown",
      "source": [
        "# MODELLING"
      ]
    },
    {
      "metadata": {
        "id": "RQon53P9I8z_",
        "colab_type": "text"
      },
      "cell_type": "markdown",
      "source": [
        "### Train/Test Split"
      ]
    },
    {
      "metadata": {
        "id": "q4UUUohZJCtY",
        "colab_type": "code",
        "colab": {}
      },
      "cell_type": "code",
      "source": [
        "# Let's apply a 80/20 split\n",
        "\n",
        "from sklearn.model_selection import train_test_split\n",
        "\n",
        "df_train, df_test = train_test_split(df, test_size=0.2, shuffle=False)\n",
        "\n",
        "X_train = df_train.drop('TG', 1)\n",
        "y_train = df_train.TG\n",
        "\n",
        "X_test = df_test.drop('TG',1)\n",
        "y_test = df_test.TG"
      ],
      "execution_count": 0,
      "outputs": []
    },
    {
      "metadata": {
        "id": "Ka1sOHhMvqe9",
        "colab_type": "text"
      },
      "cell_type": "markdown",
      "source": [
        "### Define Error Measure"
      ]
    },
    {
      "metadata": {
        "id": "BpjpXnYKvtf_",
        "colab_type": "code",
        "colab": {}
      },
      "cell_type": "code",
      "source": [
        "from sklearn.metrics import mean_squared_error, mean_absolute_error, make_scorer\n",
        "\n",
        "#scorer = make_scorer(mean_squared_error, greater_is_better = False)\n",
        "#scorer = make_scorer(mean_squared_error, greater_is_better = False)\n",
        "# True = score function\n",
        "# False = loss function\n",
        "#def rmse_cv(model, X_vals, y_vals):\n",
        "  #rmse = np.sqrt(-cross_val_score(model, X_vals, y_vals, scoring = scorer, cv = 10))\n",
        "  #rmse = np.sqrt(-cross_val_score(model, X_vals, y_vals, scoring = scorer))\n",
        "  #return rmse\n",
        "\n",
        "#scorer = make_scorer(mean_absolute_error)\n",
        "#def mae_cv(model, X_vals, y_vals):\n",
        "  #mae = np.sqrt(-cross_val_score(model, X_vals, y_vals, scoring = scorer))\n",
        "  #return mae"
      ],
      "execution_count": 0,
      "outputs": []
    },
    {
      "metadata": {
        "id": "OKtBK4KUG1iO",
        "colab_type": "text"
      },
      "cell_type": "markdown",
      "source": [
        "# Linear Regression"
      ]
    },
    {
      "metadata": {
        "id": "Bogfm9HSG5jh",
        "colab_type": "code",
        "colab": {
          "base_uri": "https://localhost:8080/",
          "height": 35
        },
        "outputId": "1a70df71-342e-4efe-c4ab-b83d95deb6e1"
      },
      "cell_type": "code",
      "source": [
        "from sklearn.linear_model import LinearRegression\n",
        "\n",
        "linreg = LinearRegression(normalize=True)\n",
        "\n",
        "linreg.fit(X_train,y_train)"
      ],
      "execution_count": 33,
      "outputs": [
        {
          "output_type": "execute_result",
          "data": {
            "text/plain": [
              "LinearRegression(copy_X=True, fit_intercept=True, n_jobs=1, normalize=True)"
            ]
          },
          "metadata": {
            "tags": []
          },
          "execution_count": 33
        }
      ]
    },
    {
      "metadata": {
        "id": "75SkUhL_GtGg",
        "colab_type": "code",
        "colab": {
          "base_uri": "https://localhost:8080/",
          "height": 87
        },
        "outputId": "bea74686-612d-414d-bc18-56cc58a8fb8a"
      },
      "cell_type": "code",
      "source": [
        "# Look at predictions on training and validation set\n",
        "\n",
        "y_train_pred = linreg.predict(X_train)\n",
        "y_test_pred = linreg.predict(X_test)\n",
        "\n",
        "print(\"Train Mean Absolute Error : \" + str(mean_absolute_error(y_train_pred, y_train)))\n",
        "print(\"Train Mean Squared Error : \" + str(mean_squared_error(y_train_pred, y_train)))\n",
        "print(\"Test Mean Absolute Error : \" + str(mean_absolute_error(y_test_pred, y_test)))\n",
        "print(\"Test Mean Squared Error : \" + str(mean_squared_error(y_test_pred, y_test)))"
      ],
      "execution_count": 34,
      "outputs": [
        {
          "output_type": "stream",
          "text": [
            "Train Mean Absolute Error : 183.3638998928972\n",
            "Train Mean Squared Error : 46425.32359115661\n",
            "Test Mean Absolute Error : 177.04943350317203\n",
            "Test Mean Squared Error : 44268.17060614393\n"
          ],
          "name": "stdout"
        }
      ]
    },
    {
      "metadata": {
        "id": "A-Q5TWkK2mZr",
        "colab_type": "code",
        "colab": {
          "base_uri": "https://localhost:8080/",
          "height": 265
        },
        "outputId": "4fd56ad6-c13c-4346-d919-1a0de3187f4f"
      },
      "cell_type": "code",
      "source": [
        "# plot prediction and actual data \n",
        "plt.plot(y_test, y_test_pred, '.')\n",
        "# plot a line, a perfect prediction would fall along this line\n",
        "x = np.linspace(0, 500, 100)\n",
        "y = x\n",
        "plt.plot(x, y)\n",
        "plt.show()"
      ],
      "execution_count": 35,
      "outputs": [
        {
          "output_type": "display_data",
          "data": {
            "image/png": "[encoded data removed]",
            "text/plain": [
              "<matplotlib.figure.Figure at 0x7f5847d16550>"
            ]
          },
          "metadata": {
            "tags": []
          }
        }
      ]
    },
    {
      "metadata": {
        "id": "KeseiCl6Iz4B",
        "colab_type": "text"
      },
      "cell_type": "markdown",
      "source": [
        "### Residual Histogram"
      ]
    },
    {
      "metadata": {
        "id": "RsXYcPeM1EYf",
        "colab_type": "code",
        "colab": {
          "base_uri": "https://localhost:8080/",
          "height": 391
        },
        "outputId": "6af9d358-8b79-4134-91c8-939e9cb5796a"
      },
      "cell_type": "code",
      "source": [
        "plt.figure(figsize=(6, 6))\n",
        "sns.distplot((y_test-y_test_pred), color='b', bins=10, hist_kws={'alpha': 0.3});"
      ],
      "execution_count": 36,
      "outputs": [
        {
          "output_type": "display_data",
          "data": {
            "image/png": "[encoded data removed]",
            "text/plain": [
              "<matplotlib.figure.Figure at 0x7f584c6e4390>"
            ]
          },
          "metadata": {
            "tags": []
          }
        }
      ]
    },
    {
      "metadata": {
        "id": "UEc_9RbpQ8o2",
        "colab_type": "text"
      },
      "cell_type": "markdown",
      "source": [
        "### Residual vs Fitted values"
      ]
    },
    {
      "metadata": {
        "id": "CJ6egx24RNrU",
        "colab_type": "code",
        "colab": {
          "base_uri": "https://localhost:8080/",
          "height": 300
        },
        "outputId": "e2c57816-3d72-4761-867f-fc1793a38857"
      },
      "cell_type": "code",
      "source": [
        "x_plot = plt.scatter(y_test_pred, (y_test_pred - y_test), c='b')\n",
        "\n",
        "plt.hlines(y = 0, xmin = -100, xmax = 400)\n",
        "\n",
        "plt.title('Residual plot')"
      ],
      "execution_count": 38,
      "outputs": [
        {
          "output_type": "execute_result",
          "data": {
            "text/plain": [
              "Text(0.5,1,'Residual plot')"
            ]
          },
          "metadata": {
            "tags": []
          },
          "execution_count": 38
        },
        {
          "output_type": "display_data",
          "data": {
            "image/png": "[encoded data removed]",
            "text/plain": [
              "<matplotlib.figure.Figure at 0x7f584c775390>"
            ]
          },
          "metadata": {
            "tags": []
          }
        }
      ]
    },
    {
      "metadata": {
        "id": "cMJWEdSERdLj",
        "colab_type": "text"
      },
      "cell_type": "markdown",
      "source": [
        "### Checking the magnitude of the coefficients"
      ]
    },
    {
      "metadata": {
        "id": "KihTq9UcRhiO",
        "colab_type": "code",
        "colab": {
          "base_uri": "https://localhost:8080/",
          "height": 301
        },
        "outputId": "93296aa9-f20b-411d-9e35-9a3df1a193d4"
      },
      "cell_type": "code",
      "source": [
        "predictors = X_train.columns\n",
        "\n",
        "coef = pd.Series(linreg.coef_, predictors).sort_values(ascending=False)\n",
        "\n",
        "\n",
        "coef.plot(kind='bar', title='Modal Coefficients')"
      ],
      "execution_count": 39,
      "outputs": [
        {
          "output_type": "execute_result",
          "data": {
            "text/plain": [
              "<matplotlib.axes._subplots.AxesSubplot at 0x7f584c7147b8>"
            ]
          },
          "metadata": {
            "tags": []
          },
          "execution_count": 39
        },
        {
          "output_type": "display_data",
          "data": {
            "image/png": "[encoded data removed]",
            "text/plain": [
              "<matplotlib.figure.Figure at 0x7f584c77ba20>"
            ]
          },
          "metadata": {
            "tags": []
          }
        }
      ]
    },
    {
      "metadata": {
        "id": "v8kSR9JIp-PH",
        "colab_type": "text"
      },
      "cell_type": "markdown",
      "source": [
        "x5 has a significative coefficient that can be regularized"
      ]
    },
    {
      "metadata": {
        "id": "jMu0AGkiXVoU",
        "colab_type": "text"
      },
      "cell_type": "markdown",
      "source": [
        "# Regularization on Linear Regression"
      ]
    },
    {
      "metadata": {
        "id": "dGpCEBBKUXuP",
        "colab_type": "text"
      },
      "cell_type": "markdown",
      "source": [
        "## Ridge Regression: L2 Regularization"
      ]
    },
    {
      "metadata": {
        "id": "p-f1xCp8pgp_",
        "colab_type": "code",
        "colab": {}
      },
      "cell_type": "code",
      "source": [
        "from sklearn.linear_model import Ridge"
      ],
      "execution_count": 0,
      "outputs": []
    },
    {
      "metadata": {
        "id": "8nSsfqXFUanh",
        "colab_type": "code",
        "colab": {
          "base_uri": "https://localhost:8080/",
          "height": 318
        },
        "outputId": "28bcdeca-9fe6-45f7-adfe-43070e1f9d0a"
      },
      "cell_type": "code",
      "source": [
        "# Tried with the following values\n",
        "# alphas = [0.03, 0.3, 3]\n",
        "\n",
        "ridgeReg = Ridge(alpha = 0.03, normalize = True)\n",
        "\n",
        "ridgeReg.fit(X_train, y_train)\n",
        "\n",
        "pred_y = ridgeReg.predict(X_test)\n",
        "\n",
        "\n",
        "predictors = X_train.columns\n",
        "coef = pd.Series(ridgeReg.coef_, predictors).sort_values(ascending=False)\n",
        "coef.plot(kind='bar', title='Modal Coefficients')\n",
        "\n",
        "print(\"Mean Absolute Error : \" + str(mean_absolute_error(pred_y, y_test)))\n",
        "print(\"Mean Squared Error : \" + str(mean_squared_error(pred_y, y_test)))"
      ],
      "execution_count": 41,
      "outputs": [
        {
          "output_type": "stream",
          "text": [
            "Mean Absolute Error : 177.20639005643778\n",
            "Mean Squared Error : 44329.336559380834\n"
          ],
          "name": "stdout"
        },
        {
          "output_type": "display_data",
          "data": {
            "image/png": "[encoded data removed]",
            "text/plain": [
              "<matplotlib.figure.Figure at 0x7f584c57dfd0>"
            ]
          },
          "metadata": {
            "tags": []
          }
        }
      ]
    },
    {
      "metadata": {
        "id": "yaaP7AYaXQuD",
        "colab_type": "text"
      },
      "cell_type": "markdown",
      "source": [
        "## Lasso Regression:  L1 Regularization\n"
      ]
    },
    {
      "metadata": {
        "id": "tX9H0pKxpuxz",
        "colab_type": "code",
        "colab": {}
      },
      "cell_type": "code",
      "source": [
        "from sklearn.linear_model import Lasso"
      ],
      "execution_count": 0,
      "outputs": []
    },
    {
      "metadata": {
        "id": "qF5sf33CXbrE",
        "colab_type": "code",
        "colab": {
          "base_uri": "https://localhost:8080/",
          "height": 318
        },
        "outputId": "a6ffa74b-092c-46e7-830c-afb00a98b45d"
      },
      "cell_type": "code",
      "source": [
        "# Tried with the following values\n",
        "# alphas = [0.03, 0.3, 3]\n",
        "\n",
        "lassoReg = Lasso(alpha = 0.03, normalize = True)\n",
        "\n",
        "lassoReg.fit(X_train, y_train)\n",
        "\n",
        "pred_y = lassoReg.predict(X_test)\n",
        "\n",
        "\n",
        "predictors = X_train.columns\n",
        "coef = pd.Series(lassoReg.coef_, predictors).sort_values(ascending=False)\n",
        "coef.plot(kind='bar', title='Modal Coefficients')\n",
        "\n",
        "print(\"Mean Absolute Error : \" + str(mean_absolute_error(pred_y, y_test)))\n",
        "print(\"Mean Squared Error : \" + str(mean_squared_error(pred_y, y_test)))"
      ],
      "execution_count": 43,
      "outputs": [
        {
          "output_type": "stream",
          "text": [
            "Mean Absolute Error : 177.2222880336101\n",
            "Mean Squared Error : 44303.605549417356\n"
          ],
          "name": "stdout"
        },
        {
          "output_type": "display_data",
          "data": {
            "image/png": "[encoded data removed]",
            "text/plain": [
              "<matplotlib.figure.Figure at 0x7f584c820ac8>"
            ]
          },
          "metadata": {
            "tags": []
          }
        }
      ]
    },
    {
      "metadata": {
        "id": "P3nNu1he-On1",
        "colab_type": "text"
      },
      "cell_type": "markdown",
      "source": [
        "# Elastic Net Regression"
      ]
    },
    {
      "metadata": {
        "id": "s11XXrXa-SDz",
        "colab_type": "code",
        "colab": {}
      },
      "cell_type": "code",
      "source": [
        "from sklearn.linear_model import ElasticNet"
      ],
      "execution_count": 0,
      "outputs": []
    },
    {
      "metadata": {
        "id": "OBobs7YX-Tv2",
        "colab_type": "code",
        "colab": {
          "base_uri": "https://localhost:8080/",
          "height": 52
        },
        "outputId": "da763a63-004d-4047-b076-dd8286e33c97"
      },
      "cell_type": "code",
      "source": [
        "ENreg = ElasticNet(alpha=1, l1_ratio=0.5, normalize=False)\n",
        "\n",
        "ENreg.fit(X_train, y_train)\n",
        "\n",
        "pred_ENreg_y = ENreg.predict(X_test)\n",
        "\n",
        "\n",
        "print(\"Mean Absolute Error : \" + str(mean_absolute_error(pred_ENreg_y, y_test)))\n",
        "print(\"Mean Squared Error : \" + str(mean_squared_error(pred_ENreg_y, y_test)))"
      ],
      "execution_count": 297,
      "outputs": [
        {
          "output_type": "stream",
          "text": [
            "Mean Absolute Error : 177.05146902744497\n",
            "Mean Squared Error : 44268.53755856587\n"
          ],
          "name": "stdout"
        }
      ]
    },
    {
      "metadata": {
        "id": "UcafH3OXb0Ne",
        "colab_type": "code",
        "colab": {
          "base_uri": "https://localhost:8080/",
          "height": 265
        },
        "outputId": "a48d3fd7-8de1-45e6-a7d6-a2f7d65a998c"
      },
      "cell_type": "code",
      "source": [
        "# plot prediction and actual data \n",
        "plt.plot(y_test, pred_ENreg_y, '.')\n",
        "# plot a line, a perfect prediction would all fall on this line\n",
        "x = np.linspace(0, 500, 100)\n",
        "y = x\n",
        "plt.plot(x, y)\n",
        "plt.show()"
      ],
      "execution_count": 307,
      "outputs": [
        {
          "output_type": "display_data",
          "data": {
            "image/png": "[encoded data removed]",
            "text/plain": [
              "<matplotlib.figure.Figure at 0x7f82f8849828>"
            ]
          },
          "metadata": {
            "tags": []
          }
        }
      ]
    },
    {
      "metadata": {
        "id": "mZRiVNVscXQK",
        "colab_type": "code",
        "colab": {
          "base_uri": "https://localhost:8080/",
          "height": 391
        },
        "outputId": "dd59e43f-a37e-4197-feff-2bc51264739a"
      },
      "cell_type": "code",
      "source": [
        "plt.figure(figsize=(6, 6))\n",
        "sns.distplot((y_test-pred_ENreg_y), color='b', bins=10, hist_kws={'alpha': 0.3});"
      ],
      "execution_count": 308,
      "outputs": [
        {
          "output_type": "display_data",
          "data": {
            "image/png": "[encoded data removed]",
            "text/plain": [
              "<matplotlib.figure.Figure at 0x7f82f884e978>"
            ]
          },
          "metadata": {
            "tags": []
          }
        }
      ]
    },
    {
      "metadata": {
        "id": "HWyaS2opdP-7",
        "colab_type": "text"
      },
      "cell_type": "markdown",
      "source": [
        "# Polynomial Regression"
      ]
    },
    {
      "metadata": {
        "id": "wWGmCfYGrT3z",
        "colab_type": "code",
        "colab": {}
      },
      "cell_type": "code",
      "source": [
        "from sklearn import linear_model\n",
        "from sklearn.preprocessing import PolynomialFeatures"
      ],
      "execution_count": 0,
      "outputs": []
    },
    {
      "metadata": {
        "id": "iPwgOftT5eCm",
        "colab_type": "text"
      },
      "cell_type": "markdown",
      "source": [
        "Let's try 2nd degree polynom"
      ]
    },
    {
      "metadata": {
        "id": "5Rp7BQmIdVrS",
        "colab_type": "code",
        "colab": {
          "base_uri": "https://localhost:8080/",
          "height": 52
        },
        "outputId": "b3792e5f-bce9-444a-c161-5c4a5939a023"
      },
      "cell_type": "code",
      "source": [
        "polyReg2 = PolynomialFeatures(degree=2)\n",
        "\n",
        "X_poly = polyReg2.fit_transform(X_train)\n",
        "\n",
        "y_poly = polyReg2.fit_transform(X_test)\n",
        "\n",
        "\n",
        "linReg2 = linear_model.LinearRegression()\n",
        "\n",
        "linReg2.fit(X_poly, y_train)\n",
        "\n",
        "y_test_pred_d2 = linReg2.predict(y_poly)\n",
        "\n",
        "print(\"Mean Absolute Error : \" + str(mean_absolute_error(y_test_pred_d2, y_test)))\n",
        "print(\"Mean Squared Error : \" + str(mean_squared_error(y_test_pred_d2, y_test)))"
      ],
      "execution_count": 61,
      "outputs": [
        {
          "output_type": "stream",
          "text": [
            "Mean Absolute Error : 177.17373006317897\n",
            "Mean Squared Error : 47528.869303385436\n"
          ],
          "name": "stdout"
        }
      ]
    },
    {
      "metadata": {
        "id": "Qwvej6IP5ic6",
        "colab_type": "text"
      },
      "cell_type": "markdown",
      "source": [
        "3rd degree"
      ]
    },
    {
      "metadata": {
        "id": "VImC7LsY5Zmh",
        "colab_type": "code",
        "colab": {
          "base_uri": "https://localhost:8080/",
          "height": 52
        },
        "outputId": "678bd22b-6947-4f9c-dd50-b9ddcd3576f3"
      },
      "cell_type": "code",
      "source": [
        "polyReg3 = PolynomialFeatures(degree=3)\n",
        "\n",
        "X_poly = polyReg3.fit_transform(X_train)\n",
        "\n",
        "y_poly = polyReg3.fit_transform(X_test)\n",
        "\n",
        "\n",
        "linReg3 = linear_model.LinearRegression()\n",
        "\n",
        "linReg3.fit(X_poly, y_train)\n",
        "\n",
        "y_test_pred_d3 = linReg3.predict(y_poly)\n",
        "\n",
        "print(\"Mean Absolute Error : \" + str(mean_absolute_error(y_test_pred_d3, y_test)))\n",
        "print(\"Mean Squared Error : \" + str(mean_squared_error(y_test_pred_d3, y_test)))"
      ],
      "execution_count": 62,
      "outputs": [
        {
          "output_type": "stream",
          "text": [
            "Mean Absolute Error : 215.73149993783986\n",
            "Mean Squared Error : 72685.08761266756\n"
          ],
          "name": "stdout"
        }
      ]
    },
    {
      "metadata": {
        "id": "NI8kkHub7kQz",
        "colab_type": "text"
      },
      "cell_type": "markdown",
      "source": [
        "A 3rd degree of complexity doesn't help to fit"
      ]
    },
    {
      "metadata": {
        "id": "MU04Pgq-8BLm",
        "colab_type": "text"
      },
      "cell_type": "markdown",
      "source": [
        "## Regularization on Polynomial Regression"
      ]
    },
    {
      "metadata": {
        "id": "ziIJqXKY8Knw",
        "colab_type": "text"
      },
      "cell_type": "markdown",
      "source": [
        "## Ridge Regression: L2 Regularization"
      ]
    },
    {
      "metadata": {
        "id": "ghUEtJk77J1w",
        "colab_type": "code",
        "colab": {}
      },
      "cell_type": "code",
      "source": [
        "from sklearn.linear_model import Ridge"
      ],
      "execution_count": 0,
      "outputs": []
    },
    {
      "metadata": {
        "id": "Ac5EDZ717C52",
        "colab_type": "code",
        "colab": {
          "base_uri": "https://localhost:8080/",
          "height": 52
        },
        "outputId": "8b93e52f-61b5-458d-eb5a-4a30ee205ac4"
      },
      "cell_type": "code",
      "source": [
        "polyReg2 = PolynomialFeatures(degree=2)\n",
        "\n",
        "X_poly = polyReg2.fit_transform(X_train)\n",
        "\n",
        "y_poly = polyReg2.fit_transform(X_test)\n",
        "\n",
        "ridgeReg2 = Ridge(alpha = 0.01, normalize = True)\n",
        "\n",
        "ridgeReg2.fit(X_poly, y_train)\n",
        "\n",
        "y_test_pred_d2_rid = ridgeReg2.predict(y_poly)\n",
        "\n",
        "print(\"Mean Absolute Error : \" + str(mean_absolute_error(y_test_pred_d2_rid, y_test)))\n",
        "print(\"Mean Squared Error : \" + str(mean_squared_error(y_test_pred_d2_rid, y_test)))"
      ],
      "execution_count": 67,
      "outputs": [
        {
          "output_type": "stream",
          "text": [
            "Mean Absolute Error : 175.89430021268512\n",
            "Mean Squared Error : 45701.429059846356\n"
          ],
          "name": "stdout"
        }
      ]
    },
    {
      "metadata": {
        "id": "cqkgiFOZ8h2l",
        "colab_type": "text"
      },
      "cell_type": "markdown",
      "source": [
        "## Lasso Regression: L1 Regularization"
      ]
    },
    {
      "metadata": {
        "id": "kLH9FepD80XJ",
        "colab_type": "code",
        "colab": {}
      },
      "cell_type": "code",
      "source": [
        "from sklearn.linear_model import Lasso"
      ],
      "execution_count": 0,
      "outputs": []
    },
    {
      "metadata": {
        "id": "W2eLeVbt8neA",
        "colab_type": "code",
        "colab": {
          "base_uri": "https://localhost:8080/",
          "height": 52
        },
        "outputId": "91462d13-87e6-4e8d-8925-daf4965986c1"
      },
      "cell_type": "code",
      "source": [
        "polyReg2 = PolynomialFeatures(degree=2)\n",
        "\n",
        "X_poly = polyReg2.fit_transform(X_train)\n",
        "\n",
        "y_poly = polyReg2.fit_transform(X_test)\n",
        "\n",
        "lassoReg2 = Lasso(alpha = 0.03, normalize = True)\n",
        "\n",
        "lassoReg2.fit(X_poly, y_train)\n",
        "\n",
        "y_test_pred_d2_las = lassoReg2.predict(y_poly)\n",
        "\n",
        "\n",
        "print(\"Mean Absolute Error : \" + str(mean_absolute_error(y_test_pred_d2_las, y_test)))\n",
        "print(\"Mean Squared Error : \" + str(mean_squared_error(y_test_pred_d2_las, y_test)))"
      ],
      "execution_count": 72,
      "outputs": [
        {
          "output_type": "stream",
          "text": [
            "Mean Absolute Error : 176.8357650881022\n",
            "Mean Squared Error : 45593.27431594827\n"
          ],
          "name": "stdout"
        }
      ]
    },
    {
      "metadata": {
        "id": "8XVcxR5L5kxe",
        "colab_type": "text"
      },
      "cell_type": "markdown",
      "source": [
        "#XGBoost"
      ]
    },
    {
      "metadata": {
        "id": "8Q0wOckD5pcG",
        "colab_type": "code",
        "colab": {}
      },
      "cell_type": "code",
      "source": [
        "import xgboost as xgb"
      ],
      "execution_count": 0,
      "outputs": []
    },
    {
      "metadata": {
        "id": "adUWjIXi53zf",
        "colab_type": "code",
        "colab": {
          "base_uri": "https://localhost:8080/",
          "height": 121
        },
        "outputId": "6212c3ea-945d-4d2a-aed1-da82ff9cb106"
      },
      "cell_type": "code",
      "source": [
        "model_xgb = xgb.XGBRegressor()\n",
        "model_xgb.fit(X_train, y_train)"
      ],
      "execution_count": 251,
      "outputs": [
        {
          "output_type": "execute_result",
          "data": {
            "text/plain": [
              "XGBRegressor(base_score=0.5, booster='gbtree', colsample_bylevel=1,\n",
              "       colsample_bytree=1, gamma=0, learning_rate=0.1, max_delta_step=0,\n",
              "       max_depth=3, min_child_weight=1, missing=None, n_estimators=100,\n",
              "       n_jobs=1, nthread=None, objective='reg:linear', random_state=0,\n",
              "       reg_alpha=0, reg_lambda=1, scale_pos_weight=1, seed=None,\n",
              "       silent=True, subsample=1)"
            ]
          },
          "metadata": {
            "tags": []
          },
          "execution_count": 251
        }
      ]
    },
    {
      "metadata": {
        "id": "nxylDxn68l-V",
        "colab_type": "code",
        "colab": {
          "base_uri": "https://localhost:8080/",
          "height": 52
        },
        "outputId": "f7149f46-cbfb-40a0-be50-0fd77f0f6a43"
      },
      "cell_type": "code",
      "source": [
        "predictions = model_xgb.predict(X_test)\n",
        "\n",
        "print(\"Mean Absolute Error : \" + str(mean_absolute_error(predictions, y_test)))\n",
        "print(\"Mean Squared Error : \" + str(mean_squared_error(predictions, y_test)))"
      ],
      "execution_count": 252,
      "outputs": [
        {
          "output_type": "stream",
          "text": [
            "Mean Absolute Error : 187.08080340794154\n",
            "Mean Squared Error : 49412.424090929526\n"
          ],
          "name": "stdout"
        }
      ]
    },
    {
      "metadata": {
        "id": "h4t1Icko9HiG",
        "colab_type": "text"
      },
      "cell_type": "markdown",
      "source": [
        "### XGB Model Tuning"
      ]
    },
    {
      "metadata": {
        "id": "wZl2hbdK_VUd",
        "colab_type": "text"
      },
      "cell_type": "markdown",
      "source": [
        "### n_estimators"
      ]
    },
    {
      "metadata": {
        "id": "6ApmNRV49LvB",
        "colab_type": "code",
        "colab": {
          "base_uri": "https://localhost:8080/",
          "height": 121
        },
        "outputId": "e5c13c26-98e2-4e71-8505-667f4409a12d"
      },
      "cell_type": "code",
      "source": [
        "model_xgb = xgb.XGBRegressor(n_estimators=150)\n",
        "#model_xgb.fit(X_train, y_train, early_stopping_rounds=5, eval_set=[(X_train, y_train)], verbose=False)\n",
        "model_xgb.fit(X_train, y_train, verbose=False)"
      ],
      "execution_count": 255,
      "outputs": [
        {
          "output_type": "execute_result",
          "data": {
            "text/plain": [
              "XGBRegressor(base_score=0.5, booster='gbtree', colsample_bylevel=1,\n",
              "       colsample_bytree=1, gamma=0, learning_rate=0.1, max_delta_step=0,\n",
              "       max_depth=3, min_child_weight=1, missing=None, n_estimators=150,\n",
              "       n_jobs=1, nthread=None, objective='reg:linear', random_state=0,\n",
              "       reg_alpha=0, reg_lambda=1, scale_pos_weight=1, seed=None,\n",
              "       silent=True, subsample=1)"
            ]
          },
          "metadata": {
            "tags": []
          },
          "execution_count": 255
        }
      ]
    },
    {
      "metadata": {
        "id": "TVSZwpDwAlCZ",
        "colab_type": "code",
        "colab": {
          "base_uri": "https://localhost:8080/",
          "height": 52
        },
        "outputId": "0345e6ea-d286-407a-8f9d-9221c4253efa"
      },
      "cell_type": "code",
      "source": [
        "predictions = model_xgb.predict(X_test)\n",
        "\n",
        "from sklearn.metrics import mean_absolute_error\n",
        "print(\"Mean Absolute Error : \" + str(mean_absolute_error(predictions, y_test)))\n",
        "print(\"Mean Squared Error : \" + str(mean_squared_error(predictions, y_test)))"
      ],
      "execution_count": 256,
      "outputs": [
        {
          "output_type": "stream",
          "text": [
            "Mean Absolute Error : 187.85382020132883\n",
            "Mean Squared Error : 49673.12141584673\n"
          ],
          "name": "stdout"
        }
      ]
    },
    {
      "metadata": {
        "id": "BjBQ582lBhH4",
        "colab_type": "text"
      },
      "cell_type": "markdown",
      "source": [
        "### Learning Rate"
      ]
    },
    {
      "metadata": {
        "id": "Gh33LJnuBVo7",
        "colab_type": "code",
        "colab": {
          "base_uri": "https://localhost:8080/",
          "height": 121
        },
        "outputId": "431dc967-78b9-451e-f86e-2b08ee805ca1"
      },
      "cell_type": "code",
      "source": [
        "model_xgb = xgb.XGBRegressor(n_estimators=150, learning_rate=0.01)\n",
        "model_xgb.fit(X_train, y_train, verbose=False)"
      ],
      "execution_count": 257,
      "outputs": [
        {
          "output_type": "execute_result",
          "data": {
            "text/plain": [
              "XGBRegressor(base_score=0.5, booster='gbtree', colsample_bylevel=1,\n",
              "       colsample_bytree=1, gamma=0, learning_rate=0.01, max_delta_step=0,\n",
              "       max_depth=3, min_child_weight=1, missing=None, n_estimators=150,\n",
              "       n_jobs=1, nthread=None, objective='reg:linear', random_state=0,\n",
              "       reg_alpha=0, reg_lambda=1, scale_pos_weight=1, seed=None,\n",
              "       silent=True, subsample=1)"
            ]
          },
          "metadata": {
            "tags": []
          },
          "execution_count": 257
        }
      ]
    },
    {
      "metadata": {
        "id": "M2vSBO1xBmUT",
        "colab_type": "code",
        "colab": {
          "base_uri": "https://localhost:8080/",
          "height": 52
        },
        "outputId": "d2c4802b-b14d-4d3d-ea5b-31838a24f837"
      },
      "cell_type": "code",
      "source": [
        "predictions = model_xgb.predict(X_test)\n",
        "\n",
        "from sklearn.metrics import mean_absolute_error\n",
        "print(\"Mean Absolute Error : \" + str(mean_absolute_error(predictions, y_test)))\n",
        "print(\"Mean Squared Error : \" + str(mean_squared_error(predictions, y_test)))"
      ],
      "execution_count": 258,
      "outputs": [
        {
          "output_type": "stream",
          "text": [
            "Mean Absolute Error : 175.03986958095007\n",
            "Mean Squared Error : 50064.98815125081\n"
          ],
          "name": "stdout"
        }
      ]
    },
    {
      "metadata": {
        "id": "2YuJiVzqDDpj",
        "colab_type": "code",
        "colab": {
          "base_uri": "https://localhost:8080/",
          "height": 299
        },
        "outputId": "1b14b60f-272c-4596-a291-91498abf33e8"
      },
      "cell_type": "code",
      "source": [
        "# Plot predictions\n",
        "plt.scatter(predictions, y_test, c = \"lightgreen\", marker = \"s\", label = \"Validation data\")\n",
        "plt.title(\"XGBoost\")\n",
        "plt.xlabel(\"Predicted values\")\n",
        "plt.ylabel(\"Real values\")\n",
        "plt.legend(loc = \"upper left\")\n",
        "plt.plot([10.5, 13.5], [10.5, 13.5], c = \"red\")\n",
        "plt.show()"
      ],
      "execution_count": 236,
      "outputs": [
        {
          "output_type": "display_data",
          "data": {
            "image/png": "[encoded data removed]",
            "text/plain": [
              "<matplotlib.figure.Figure at 0x7f82f8513c18>"
            ]
          },
          "metadata": {
            "tags": []
          }
        }
      ]
    },
    {
      "metadata": {
        "id": "tlpobJEjIMVq",
        "colab_type": "code",
        "colab": {
          "base_uri": "https://localhost:8080/",
          "height": 265
        },
        "outputId": "9a3f3da6-42c4-4299-d4a2-fac0dde7f1bf"
      },
      "cell_type": "code",
      "source": [
        "# plot prediction and actual data \n",
        "plt.plot(y_test, predictions, '.')\n",
        "# plot a line, a perfect prediction would all fall on this line\n",
        "x = np.linspace(0, 500, 100)\n",
        "y = x\n",
        "plt.plot(x, y)\n",
        "plt.show()"
      ],
      "execution_count": 259,
      "outputs": [
        {
          "output_type": "display_data",
          "data": {
            "image/png": "[encoded data removed]",
            "text/plain": [
              "<matplotlib.figure.Figure at 0x7f82f8c83cf8>"
            ]
          },
          "metadata": {
            "tags": []
          }
        }
      ]
    },
    {
      "metadata": {
        "id": "cDM2Eb2BIrx_",
        "colab_type": "text"
      },
      "cell_type": "markdown",
      "source": [
        "### Residual Histogram"
      ]
    },
    {
      "metadata": {
        "id": "u1uJYwziIqsk",
        "colab_type": "code",
        "colab": {
          "base_uri": "https://localhost:8080/",
          "height": 391
        },
        "outputId": "518f92b4-5910-4b37-ac4f-8ff8b71f8952"
      },
      "cell_type": "code",
      "source": [
        "plt.figure(figsize=(6, 6))\n",
        "sns.distplot((y_test-predictions), color='b', bins=10, hist_kws={'alpha': 0.3});"
      ],
      "execution_count": 302,
      "outputs": [
        {
          "output_type": "display_data",
          "data": {
            "image/png": "[encoded data removed]",
            "text/plain": [
              "<matplotlib.figure.Figure at 0x7f82f8d66cf8>"
            ]
          },
          "metadata": {
            "tags": []
          }
        }
      ]
    },
    {
      "metadata": {
        "id": "6j0Yg26X-T7o",
        "colab_type": "text"
      },
      "cell_type": "markdown",
      "source": [
        "# Support Vector Regression"
      ]
    },
    {
      "metadata": {
        "id": "hpWOYbuu-XQb",
        "colab_type": "code",
        "colab": {}
      },
      "cell_type": "code",
      "source": [
        "from sklearn.svm import SVR"
      ],
      "execution_count": 0,
      "outputs": []
    },
    {
      "metadata": {
        "id": "KtdacI7E-4ol",
        "colab_type": "text"
      },
      "cell_type": "markdown",
      "source": [
        "Let's try a RBF kernel"
      ]
    },
    {
      "metadata": {
        "id": "AR0lwK5c-nTl",
        "colab_type": "code",
        "colab": {
          "base_uri": "https://localhost:8080/",
          "height": 52
        },
        "outputId": "681cf07a-90e8-481f-99de-e8054ee59f98"
      },
      "cell_type": "code",
      "source": [
        "svrRBFReg = SVR(kernel = 'rbf')\n",
        "\n",
        "y_test_pred_rbf = svrRBFReg.fit(X_train, y_train).predict(X_test)\n",
        "\n",
        "print(\"Mean Absolute Error : \" + str(mean_absolute_error(y_test_pred_rbf, y_test)))\n",
        "print(\"Mean Squared Error : \" + str(mean_squared_error(y_test_pred_rbf, y_test)))"
      ],
      "execution_count": 78,
      "outputs": [
        {
          "output_type": "stream",
          "text": [
            "Mean Absolute Error : 180.4142857142857\n",
            "Mean Squared Error : 49101.93571428571\n"
          ],
          "name": "stdout"
        }
      ]
    }
  ]
}